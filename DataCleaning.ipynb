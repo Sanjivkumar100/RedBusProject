{
 "cells": [
  {
   "cell_type": "code",
   "execution_count": 129,
   "metadata": {},
   "outputs": [],
   "source": [
    "import pandas as pd\n",
    "bus_cleaning_TSRTC=pd.read_csv(\"C:/Users/sanji/Desktop/RedBusProject/BusData/WBTC_Bus.csv\")\n",
    "bus_cleaning_TSRTC\n",
    "bus_cleaning_TSRTC.rename(columns={'Unnamed: 0': 'Bus_no'}, inplace=True)\n",
    "bus_cleaning_TSRTC['Price'].str.replace('INR','')\n",
    "bus_cleaning_TSRTC['Price'] = bus_cleaning_TSRTC['Price'].str.replace('INR','')\n",
    "bus_cleaning_TSRTC['Price'] = pd.to_numeric(bus_cleaning_TSRTC['Price'])\n",
    "bus_cleaning_TSRTC['Seats'] = bus_cleaning_TSRTC['Seats'].replace({'Seats available': '', 'Seat available': ''}, regex=True)\n",
    "bus_cleaning_TSRTC['Seats'] = bus_cleaning_TSRTC['Seats'].astype(float)"
   ]
  },
  {
   "cell_type": "code",
   "execution_count": 130,
   "metadata": {},
   "outputs": [
    {
     "name": "stdout",
     "output_type": "stream",
     "text": [
      "0    21:15:00\n",
      "1    23:00:00\n",
      "2    21:45:00\n",
      "3    18:35:00\n",
      "4    19:00:00\n",
      "Name: Bus_Dept, dtype: object\n",
      "Bus_no           int64\n",
      "From            object\n",
      "To              object\n",
      "Link            object\n",
      "Bus_Name        object\n",
      "Bus_Type        object\n",
      "Bus_Dept        object\n",
      "Bus_Arrival     object\n",
      "Duration        object\n",
      "Rating         float64\n",
      "Price          float64\n",
      "Seats          float64\n",
      "dtype: object\n"
     ]
    }
   ],
   "source": [
    "bus_cleaning_TSRTC['Bus_Dept'] = pd.to_datetime(bus_cleaning_TSRTC['Bus_Dept'], format='%H:%M').dt.time\n",
    "\n",
    "# Verify the type\n",
    "print(bus_cleaning_TSRTC['Bus_Dept'].head())  # Check values\n",
    "print(bus_cleaning_TSRTC.dtypes)  "
   ]
  },
  {
   "cell_type": "code",
   "execution_count": 131,
   "metadata": {},
   "outputs": [],
   "source": [
    "bus_cleaning_TSRTC['Bus_Arrival'] = pd.to_datetime(bus_cleaning_TSRTC['Bus_Arrival'], format='%H:%M').dt.time"
   ]
  },
  {
   "cell_type": "code",
   "execution_count": 132,
   "metadata": {},
   "outputs": [
    {
     "data": {
      "text/plain": [
       "array(['A/C Seater / Sleeper (2+2)', 'A/C Seater (2+3)',\n",
       "       'Non AC Seater (2+3)', 'Volvo 9600 A/C Seater (2+2)',\n",
       "       'AC Seater (2+3)', 'A/C Seater / Sleeper (2+1)',\n",
       "       'A/C Seater Push Back (2+3)', 'Volvo B11R Multi Axle Seater (2+2)',\n",
       "       'Volvo A/C Seater (2+2)',\n",
       "       'Scania Multi-Axle AC Semi Sleeper (2+2)', 'NON A/C Sleeper (2+1)',\n",
       "       'NON A/C Seater / Sleeper (2+2)', nan], dtype=object)"
      ]
     },
     "execution_count": 132,
     "metadata": {},
     "output_type": "execute_result"
    }
   ],
   "source": [
    "bus_cleaning_TSRTC['Bus_Type'].unique()"
   ]
  },
  {
   "cell_type": "code",
   "execution_count": 133,
   "metadata": {},
   "outputs": [],
   "source": [
    "bus_cleaning_TSRTC['Bus_Type'] = bus_cleaning_TSRTC['Bus_Type'].replace({'A/C Seater / Sleeper (2+2)': 'AC Seater/Sleeper', 'A/C Seater (2+3)': 'AC Seater/Sleeper',\n",
    "       'Non AC Seater (2+3)': 'Non AC Seater', 'Volvo 9600 A/C Seater (2+2)':'AC Seater',\n",
    "       'AC Seater (2+3)': 'AC Seater', 'A/C Seater / Sleeper (2+1)': 'AC Seater/Sleeper',\n",
    "       'A/C Seater Push Back (2+3)': 'AC Seater', 'Volvo B11R Multi Axle Seater (2+2)':'AC Seater',\n",
    "       'Volvo A/C Seater (2+2)':'AC Seater',\n",
    "       'Scania Multi-Axle AC Semi Sleeper (2+2)':'AC Seater', 'NON A/C Sleeper (2+1)': 'Non AC Seater',\n",
    "       'NON A/C Seater / Sleeper (2+2)': 'Non AC Seater'})\n",
    "\n",
    "\n"
   ]
  },
  {
   "cell_type": "code",
   "execution_count": 134,
   "metadata": {},
   "outputs": [
    {
     "data": {
      "text/plain": [
       "array(['AC Seater/Sleeper', 'Non AC Seater', 'AC Seater', nan],\n",
       "      dtype=object)"
      ]
     },
     "execution_count": 134,
     "metadata": {},
     "output_type": "execute_result"
    }
   ],
   "source": [
    "bus_cleaning_TSRTC['Bus_Type'].unique()"
   ]
  },
  {
   "cell_type": "code",
   "execution_count": 135,
   "metadata": {},
   "outputs": [],
   "source": [
    "bus_cleaning_TSRTC.to_csv('C:/Users/sanji/Desktop/RedBusProject/BusData/WBTC_Bus.csv')"
   ]
  }
 ],
 "metadata": {
  "kernelspec": {
   "display_name": ".venv",
   "language": "python",
   "name": "python3"
  },
  "language_info": {
   "codemirror_mode": {
    "name": "ipython",
    "version": 3
   },
   "file_extension": ".py",
   "mimetype": "text/x-python",
   "name": "python",
   "nbconvert_exporter": "python",
   "pygments_lexer": "ipython3",
   "version": "3.9.13"
  }
 },
 "nbformat": 4,
 "nbformat_minor": 2
}
